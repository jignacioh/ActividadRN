{
 "cells": [
  {
   "cell_type": "markdown",
   "metadata": {
    "slideshow": {
     "slide_type": "slide"
    }
   },
   "source": [
    "<img src=\"img/viu_logo.png\" width=\"200\">\n",
    "\n",
    "# 07MAIR - Redes Neuronales y Deep Learning\n",
    "## Clase 02: Redes neuronales artificiales\n",
    "<img src=\"img/keras_logo.jpg\" width=\"200\">\n",
    "\n",
    "### Profesores: Adrián Colomer Granero / Gabriel Enrique Muñoz Ríos\n",
    "### Autor: Carlos Fernández Musoles"
   ]
  },
  {
   "cell_type": "markdown",
   "metadata": {
    "slideshow": {
     "slide_type": "slide"
    }
   },
   "source": [
    "### Sumario\n",
    "- Funciones de activación\n",
    "- Visualización con Tensorflow playground\n",
    "- Ejemplo mnist keras\n",
    "- Optimización"
   ]
  },
  {
   "cell_type": "markdown",
   "metadata": {
    "slideshow": {
     "slide_type": "subslide"
    }
   },
   "source": [
    "<img src=\"img/xor_multi_layer.png\" width=\"300\">"
   ]
  },
  {
   "cell_type": "markdown",
   "metadata": {
    "slideshow": {
     "slide_type": "subslide"
    }
   },
   "source": [
    "<img src=\"img/xor_multi_layer_solucion.png\" width=\"300\">"
   ]
  },
  {
   "cell_type": "markdown",
   "metadata": {
    "slideshow": {
     "slide_type": "subslide"
    }
   },
   "source": [
    "### Diferencias en batch size?\n",
    "- Batch size 1\n",
    "- tamaño del training set > Batch size > 1\n",
    "- Batch size == tamaño del training set"
   ]
  },
  {
   "cell_type": "markdown",
   "metadata": {
    "slideshow": {
     "slide_type": "fragment"
    }
   },
   "source": [
    "- Batch size 1 \n",
    " - menos memoria, convergencia más lenta, época lenta"
   ]
  },
  {
   "cell_type": "markdown",
   "metadata": {
    "slideshow": {
     "slide_type": "fragment"
    }
   },
   "source": [
    "- Batch size == tamaño del training set\n",
    " - época es rápida, más memoria, más épocas"
   ]
  },
  {
   "cell_type": "markdown",
   "metadata": {
    "slideshow": {
     "slide_type": "fragment"
    }
   },
   "source": [
    "- tamaño del training set > Batch size > 1\n",
    " - balance entre las dos\n",
    " - valor exacto: ¿arte?"
   ]
  },
  {
   "cell_type": "markdown",
   "metadata": {
    "slideshow": {
     "slide_type": "slide"
    }
   },
   "source": [
    "# Parámetros en el entrenamiento de ANNs\n",
    "\n",
    "- Época (1 pase de todos los training samples)\n",
    "- batch size (número de training samples considerados para hacer una modificación de los parámetros de la red)\n",
    "- learning rate (magnitud del cambio en cada actualización)\n",
    "- función de pérdida (error entre lo esperado y lo hallado)"
   ]
  },
  {
   "cell_type": "markdown",
   "metadata": {
    "slideshow": {
     "slide_type": "fragment"
    }
   },
   "source": [
    "- tradeoffs: \n",
    " - batch size (alto lento en entrenar, mucha memoria, bajo poca memoria, erratico en bajar el error)\n",
    " - learning rate (alto problemas para alcanzar minimos globales, bajo lentitud y posible estancamiento en minimo local).\n",
    " \n",
    "VIsualización de entrenamiento con TensorFlow playground https://playground.tensorflow.org"
   ]
  },
  {
   "cell_type": "markdown",
   "metadata": {
    "slideshow": {
     "slide_type": "slide"
    }
   },
   "source": [
    "## Función de activación \n",
    "\n",
    "Muchas disponibles: https://en.wikipedia.org/wiki/Activation_function"
   ]
  },
  {
   "cell_type": "markdown",
   "metadata": {
    "slideshow": {
     "slide_type": "subslide"
    }
   },
   "source": [
    "#### Umbral\n",
    "<img src=\"img/stepfunc.png\" width=\"300\">\n",
    "\n",
    "Fuente: Wikipedia https://en.wikipedia.org/wiki/Step_function\n",
    "\n",
    "- Input > umbral = 1, else 0"
   ]
  },
  {
   "cell_type": "markdown",
   "metadata": {
    "slideshow": {
     "slide_type": "fragment"
    }
   },
   "source": [
    "- Difícil convergencia durante entrenamiento\n",
    "- Para multiclase, cómo decidir el output correcto (tres 1 y un 0)"
   ]
  },
  {
   "cell_type": "markdown",
   "metadata": {
    "slideshow": {
     "slide_type": "subslide"
    }
   },
   "source": [
    "#### Linear\n",
    "\n",
    "<img src=\"img/linear.png\" width=\"300\">\n",
    "\n",
    "Fuente: Wikipedia https://en.wikipedia.org/wiki/Activation_function \n",
    "\n",
    "- Input - output linear\n",
    "- Output -inf a +inf"
   ]
  },
  {
   "cell_type": "markdown",
   "metadata": {
    "slideshow": {
     "slide_type": "fragment"
    }
   },
   "source": [
    "- Combinación de funciones lineales da una funcion lineal\n",
    "- Explosión de valores (dificil entrenamiento)"
   ]
  },
  {
   "cell_type": "markdown",
   "metadata": {
    "slideshow": {
     "slide_type": "subslide"
    }
   },
   "source": [
    "#### Sigmoide\n",
    "\n",
    "<img src=\"img/sigmoid.png\" width=\"300\">\n",
    "\n",
    "- No linear\n",
    "- Output 0 a 1"
   ]
  },
  {
   "cell_type": "markdown",
   "metadata": {
    "slideshow": {
     "slide_type": "fragment"
    }
   },
   "source": [
    "- Problema: entrenamiento puede ser lento cuando los valores residen en los extremos"
   ]
  },
  {
   "cell_type": "markdown",
   "metadata": {
    "slideshow": {
     "slide_type": "subslide"
    }
   },
   "source": [
    "#### Tangencial\n",
    "\n",
    "<img src=\"img/tanh.png\" width=\"300\">\n",
    "\n",
    "Fuente: Wolfram https://reference.wolfram.com/language/ref/Tanh.html\n",
    "\n",
    "- No linear\n",
    "- Output -1 a 1"
   ]
  },
  {
   "cell_type": "markdown",
   "metadata": {
    "slideshow": {
     "slide_type": "fragment"
    }
   },
   "source": [
    "- Gradiente más fuerte que sigmoide (derivadas son más intensas, por lo que la convergencia puede dificultarse)"
   ]
  },
  {
   "cell_type": "markdown",
   "metadata": {
    "slideshow": {
     "slide_type": "subslide"
    }
   },
   "source": [
    "#### ReLU (Rectified Linear Unit)\n",
    "\n",
    "<img src=\"img/relu.png\" width=\"300\">\n",
    "\n",
    "Fuente: Wikipedia https://en.wikipedia.org/wiki/Rectifier_(neural_networks)\n",
    "\n",
    "- No linear\n",
    "- Output 0 a +inf"
   ]
  },
  {
   "cell_type": "markdown",
   "metadata": {
    "slideshow": {
     "slide_type": "fragment"
    }
   },
   "source": [
    "- Cualquier función puede aproximarse con una combinacion de ReLUs\n",
    "- Aunque puede explotar (lado positivo) es más eficiente (menos calculos) que sigmoid o tanh\n",
    " - sigmoid / tanh requieren que todas las neuronas emitan un valor\n",
    " - calculo de la función de activacion es mas costoso\n",
    " - con ReLU, muchas serán 0 (sin calculo)"
   ]
  },
  {
   "cell_type": "markdown",
   "metadata": {
    "slideshow": {
     "slide_type": "subslide"
    }
   },
   "source": [
    "### La no linearidad de la funcion de activación es lo que permite a las ANNs aprender decision boundaries que no son lineales"
   ]
  },
  {
   "cell_type": "markdown",
   "metadata": {
    "slideshow": {
     "slide_type": "subslide"
    }
   },
   "source": [
    "### Variaciones de SGD\n",
    "- rmsprop: dividir gradiente entre la media de las magnitudes recientes \n",
    "- momentum: la magnitud del cambio al actualizar parametros depende del gradiente actual y del cambio anterior. velocity = past_vel * momentum + learning_rate * gradient\n",
    "- Otros disponibles en Keras https://keras.io/optimizers/"
   ]
  },
  {
   "cell_type": "markdown",
   "metadata": {
    "slideshow": {
     "slide_type": "slide"
    }
   },
   "source": [
    "# Instalacion de Keras\n",
    "- instalacion backend (GPU, CPU)\n",
    "```python\n",
    "pip install tensorflow\n",
    "```\n",
    "- Se puede utilizar la version GPU\n",
    " - Mas info https://www.tensorflow.org/install/gpu"
   ]
  },
  {
   "cell_type": "markdown",
   "metadata": {
    "slideshow": {
     "slide_type": "fragment"
    }
   },
   "source": [
    "- Instanacion de keras (pip)\n",
    "```python\n",
    "pip install keras\n",
    "```"
   ]
  },
  {
   "cell_type": "markdown",
   "metadata": {
    "slideshow": {
     "slide_type": "subslide"
    }
   },
   "source": [
    "## Elemplo\n",
    "Keras y el dataset MNIST para el reconocimiento de digitos escritos a mano"
   ]
  },
  {
   "cell_type": "code",
   "execution_count": 24,
   "metadata": {},
   "outputs": [],
   "source": [
    "# cargar el dataset\n",
    "from keras.datasets import mnist\n",
    "\n",
    "# dividir en training y testing sets\n",
    "(train_data, train_labels), (test_data, test_labels) = mnist.load_data()"
   ]
  },
  {
   "cell_type": "code",
   "execution_count": 25,
   "metadata": {},
   "outputs": [
    {
     "data": {
      "image/png": "[encoded data removed]",
      "text/plain": [
       "<Figure size 432x288 with 1 Axes>"
      ]
     },
     "metadata": {
      "needs_background": "light"
     },
     "output_type": "display_data"
    },
    {
     "name": "stdout",
     "output_type": "stream",
     "text": [
      "Label 6\n"
     ]
    }
   ],
   "source": [
    "# mostrar una imagen de prueba\n",
    "import matplotlib.pyplot as plt\n",
    "%matplotlib inline\n",
    "\n",
    "ELEMENT=13\n",
    "# NIUMERO MNIST Y SU ETIQUETA\n",
    "plt.imshow(train_data[ELEMENT])\n",
    "plt.show()\n",
    "print('Label {}'.format(train_labels[ELEMENT]))"
   ]
  },
  {
   "cell_type": "code",
   "execution_count": null,
   "metadata": {},
   "outputs": [],
   "source": [
    "28 x 28 pixeles"
   ]
  },
  {
   "cell_type": "code",
   "execution_count": 26,
   "metadata": {},
   "outputs": [
    {
     "data": {
      "text/plain": [
       "(60000, 28, 28)"
      ]
     },
     "execution_count": 26,
     "metadata": {},
     "output_type": "execute_result"
    }
   ],
   "source": [
    "train_data.shape\n",
    "# tres dimensiones\n",
    "    # 0 == muestras \n",
    "    # 1 == x coord\n",
    "    # 2 == y coord"
   ]
  },
  {
   "cell_type": "code",
   "execution_count": 27,
   "metadata": {},
   "outputs": [
    {
     "ename": "SyntaxError",
     "evalue": "invalid syntax (<ipython-input-27-d7f8c8a0ff4a>, line 1)",
     "output_type": "error",
     "traceback": [
      "\u001b[0;36m  File \u001b[0;32m\"<ipython-input-27-d7f8c8a0ff4a>\"\u001b[0;36m, line \u001b[0;32m1\u001b[0m\n\u001b[0;31m    1 arquitectura de red\u001b[0m\n\u001b[0m                 ^\u001b[0m\n\u001b[0;31mSyntaxError\u001b[0m\u001b[0;31m:\u001b[0m invalid syntax\n"
     ]
    }
   ],
   "source": [
    "1 arquitectura de red\n",
    "2 compilacion del modelo\n",
    "3 entrenamiento"
   ]
  },
  {
   "cell_type": "code",
   "execution_count": 28,
   "metadata": {},
   "outputs": [],
   "source": [
    "# definicion del modelo ANNç\n",
    "# creacion de la red\n",
    "from keras import models\n",
    "from keras import layers\n",
    "\n",
    "# metodo secuencial\n",
    "# permite instanciar obj secuencoal de la calse modelo\n",
    "#  luego se meten capas a ese modelo\n",
    "network = models.Sequential()\n",
    "# queremos capas conectadas en feedforward (todas las unidades de una capa a todas las unidades de la siguiente)\n",
    "# 1ra hiden layer , 512 neuronas()\n",
    "# en input de la red hay tantas segun pixeles 28X28, esta se reduce a 512, debe ser potencia de 2 para optimizar trabajo de gpu, se redimensiona, usando esta capa\n",
    "# la funcion de activacion es relu\n",
    "network.add(layers.Dense(512,activation='relu',input_shape=(28*28,)))\n",
    "# capa de salida, con 10 neuronas, 10 clases de salida, del 0 al 9\n",
    "# la FA es una softmax es usada para capa salida, en problemas de clasificaicon multiclase\n",
    "# lo que hace repartir un punto de prob entre las dif clases que se tiene, la suma de todas las clases seria 1, entre 10 clases\n",
    "network.add(layers.Dense(10,activation='softmax'))\n",
    "# son capas densas, capas con neuronas en forma vertical, ordenadas vert\n",
    "\n",
    "# luego de compila sse crea la network, arquitectura de red instanciada en network"
   ]
  },
  {
   "cell_type": "code",
   "execution_count": 29,
   "metadata": {},
   "outputs": [],
   "source": [
    "# compilar el modelo\n",
    "# elegimos funcion de perdida, algoritmo de descenso de gradienteç\n",
    "# añade los hiperparametros en los q se hace el entrenamiento\n",
    "network.compile(optimizer='rmsprop',\n",
    "               loss='categorical_crossentropy',\n",
    "               metrics=['accuracy'])\n",
    "# categorical_crossentropy funcion deperdicio, calcula el error entre lo predecido y lo real\n",
    "# categorical_crossentropy convierte etiquetas decimales  a nojenccoding\n",
    "# nojenccoding string binario, defina una pos en 1 y lo sdemas 0\n",
    "# sparse_categorical_crossentropy"
   ]
  },
  {
   "cell_type": "markdown",
   "metadata": {},
   "source": [
    "Transformar los datos , para entrenamiento mas rapido\n",
    "- eliminar una dimension, a la red no entra 2 dimensiones, perceptron multicapa solo se usa en 1 dimension\n",
    "- cambiar rango de 0-255 a 0-1, que los pixeles se muevan de 0 a 1 en vez de 0 a 255\n",
    "- labels categoricas"
   ]
  },
  {
   "cell_type": "code",
   "execution_count": 30,
   "metadata": {},
   "outputs": [],
   "source": [
    "# Transformacion de los datos\n",
    "# redimensionamos a 1D cada imagen\n",
    "train_data = train_data.reshape((60000,28*28)) # 600000 instancias a un array de 28 x 28\n",
    "test_data = test_data.reshape((10000,28*28)) # 10000 instancias a un array de 28 x 28"
   ]
  },
  {
   "cell_type": "code",
   "execution_count": 31,
   "metadata": {},
   "outputs": [],
   "source": [
    "# normalizamos los datos (de 0 a 1)\n",
    "train_data = train_data.astype('float32')/255 # normaliza entre 0 a 1\n",
    "test_data = test_data.astype('float32')/255"
   ]
  },
  {
   "cell_type": "code",
   "execution_count": 32,
   "metadata": {},
   "outputs": [
    {
     "name": "stdout",
     "output_type": "stream",
     "text": [
      "9\n"
     ]
    }
   ],
   "source": [
    "print(train_labels[4])\n",
    "# en el primer elemento tengo un 5\n",
    "# en el 2 elemento tengo un 0"
   ]
  },
  {
   "cell_type": "code",
   "execution_count": 33,
   "metadata": {},
   "outputs": [
    {
     "name": "stdout",
     "output_type": "stream",
     "text": [
      "[0. 0. 0. 0. 0. 1. 0. 0. 0. 0.]\n"
     ]
    }
   ],
   "source": [
    "# categorizamos las labels\n",
    "from keras.utils import to_categorical\n",
    "train_labels = to_categorical(train_labels)\n",
    "test_labels = to_categorical(test_labels)\n",
    "print(train_labels[0])"
   ]
  },
  {
   "cell_type": "code",
   "execution_count": 34,
   "metadata": {},
   "outputs": [
    {
     "name": "stdout",
     "output_type": "stream",
     "text": [
      "Epoch 1/5\n",
      "60000/60000 [==============================] - 2s 27us/step - loss: 0.2537 - accuracy: 0.9269\n",
      "Epoch 2/5\n",
      "60000/60000 [==============================] - 1s 23us/step - loss: 0.1039 - accuracy: 0.9689\n",
      "Epoch 3/5\n",
      "60000/60000 [==============================] - 1s 23us/step - loss: 0.0693 - accuracy: 0.9788\n",
      "Epoch 4/5\n",
      "60000/60000 [==============================] - 1s 23us/step - loss: 0.0507 - accuracy: 0.9850\n",
      "Epoch 5/5\n",
      "60000/60000 [==============================] - 1s 24us/step - loss: 0.0382 - accuracy: 0.9885\n"
     ]
    },
    {
     "data": {
      "text/plain": [
       "<keras.callbacks.callbacks.History at 0x149525550>"
      ]
     },
     "execution_count": 34,
     "metadata": {},
     "output_type": "execute_result"
    }
   ],
   "source": [
    "# entrenamos el modelo\n",
    "# eleccion de parametros\n",
    "#   epocas\n",
    "#   batch size\n",
    "# en lotes de 128 pasos, 60000/128 = 468 actualizaciones d elos w, durante 5 epocas, para completar una epoca\n",
    "# 600000 conj de entrenamiento\n",
    "\n",
    "network.fit(train_data,train_labels,epochs=5,batch_size=128)"
   ]
  },
  {
   "cell_type": "code",
   "execution_count": null,
   "metadata": {},
   "outputs": [],
   "source": [
    "al modelo le costo entrena la suma de los tiempos arriba 2 + 1 +1  ..."
   ]
  },
  {
   "cell_type": "markdown",
   "metadata": {},
   "source": [
    "Evaluar el modelo con el set de test, el data set de test"
   ]
  },
  {
   "cell_type": "code",
   "execution_count": 35,
   "metadata": {},
   "outputs": [
    {
     "name": "stdout",
     "output_type": "stream",
     "text": [
      "10000/10000 [==============================] - 0s 22us/step\n",
      "Loss 0.0674302632224746, accuracy 0.9785000085830688\n"
     ]
    }
   ],
   "source": [
    "loss, accuracy = network.evaluate(test_data,test_labels)\n",
    "print('Loss {}, accuracy {}'.format(loss,accuracy))"
   ]
  },
  {
   "cell_type": "code",
   "execution_count": null,
   "metadata": {},
   "outputs": [],
   "source": [
    "97.85% d eprecision"
   ]
  },
  {
   "cell_type": "code",
   "execution_count": 37,
   "metadata": {},
   "outputs": [
    {
     "name": "stdout",
     "output_type": "stream",
     "text": [
      "[[3.1558029e-05 1.0402198e-07 1.7586110e-05 7.1512694e-08 2.9016610e-07\n",
      "  6.5060603e-06 9.9993825e-01 7.9345193e-07 4.7541103e-06 4.4440270e-08]]\n",
      "Total sum is [3.1558029e-05 1.0402198e-07 1.7586110e-05 7.1512694e-08 2.9016610e-07\n",
      " 6.5060603e-06 9.9993825e-01 7.9345193e-07 4.7541103e-06 4.4440270e-08], classified as 6, real value 6\n"
     ]
    }
   ],
   "source": [
    "import numpy as np\n",
    "#predicciones\n",
    "SAMPLE = 100 # muestra 1000, diferentes muestras para comparar con el predicho y el real\n",
    "# reshape para traer de nuevo el 764  original\n",
    "sample = test_data[SAMPLE,:].reshape((1,28*28))\n",
    "y_value = np.array(test_labels[SAMPLE]).reshape((1,10))\n",
    "predictions = network.predict(sample)\n",
    "print(predictions)\n",
    "print('Total sum is {}, classified as {}, real value {}'.format(sum(predictions),np.argmax(predictions),np.argmax(y_value)))"
   ]
  },
  {
   "cell_type": "markdown",
   "metadata": {},
   "source": [
    "## classified as 9, real value 9\n",
    "## classified as 6, real value 6\n",
    "## es la probilidad de que el numero pertenezc a cada clase, era del 0 a 9, \n",
    " 9993825e-01 era la mas probable asociada al numero 6 en orden\n",
    "[3.1558029e-05 1.0402198e-07 1.7586110e-05 7.1512694e-08 2.9016610e-07\n",
    " 6.5060603e-06 9.9993825e-01 7.9345193e-07 4.7541103e-06 4.4440270e-08]"
   ]
  },
  {
   "cell_type": "markdown",
   "metadata": {},
   "source": [
    "## Ejemplo REUTERS\n",
    "Incluye como representar el proceso de aprendizaje"
   ]
  },
  {
   "cell_type": "code",
   "execution_count": 38,
   "metadata": {},
   "outputs": [
    {
     "name": "stdout",
     "output_type": "stream",
     "text": [
      "Downloading data from https://s3.amazonaws.com/text-datasets/reuters.npz\n",
      "2113536/2110848 [==============================] - 4s 2us/step\n"
     ]
    }
   ],
   "source": [
    "from keras.datasets import reuters\n",
    "\n",
    "WORD_LIMIT = 10000\n",
    "(training_data, training_labels), (testing_data, testing_labels) = reuters.load_data(num_words=WORD_LIMIT)"
   ]
  },
  {
   "cell_type": "code",
   "execution_count": 39,
   "metadata": {},
   "outputs": [
    {
     "name": "stdout",
     "output_type": "stream",
     "text": [
      "Downloading data from https://s3.amazonaws.com/text-datasets/reuters_word_index.json\n",
      "557056/550378 [==============================] - 1s 2us/step\n"
     ]
    },
    {
     "data": {
      "text/plain": [
       "'? generale de banque sa lt ? br and lt heller overseas corp of chicago have each taken 50 pct stakes in ? company sa ? factors generale de banque said in a statement it gave no financial details of the transaction sa ? ? turnover in 1986 was 17 5 billion belgian francs reuter 3'"
      ]
     },
     "execution_count": 39,
     "metadata": {},
     "output_type": "execute_result"
    }
   ],
   "source": [
    "# los datos son numericos\n",
    "# para decodificarlos, se puede usar reuters.get_word_index()\n",
    "\n",
    "word_index = reuters.get_word_index()\n",
    "reverse_word_index = dict({value : key for key, value in word_index.items()})\n",
    "decoded = ' '.join(\n",
    "    [reverse_word_index.get(i-3,'?') for i in training_data[1]]\n",
    ")\n",
    "decoded"
   ]
  },
  {
   "cell_type": "code",
   "execution_count": 40,
   "metadata": {},
   "outputs": [],
   "source": [
    "# arriba, se hace un mapeo de palabras para la red"
   ]
  },
  {
   "cell_type": "code",
   "execution_count": 41,
   "metadata": {},
   "outputs": [],
   "source": [
    "from keras import layers\n",
    "from keras import models\n",
    "\n",
    "model = models.Sequential()\n",
    "# activacion relu\n",
    "# 64 es solo un ejemplo , otro podria ocmportarse mejor, 128 etc\n",
    "model.add(layers.Dense(64,activation='relu',input_shape=(WORD_LIMIT,)))\n",
    "model.add(layers.Dense(64,activation='relu'))\n",
    "model.add(layers.Dense(46,activation='sigmoid')) # output entre 0 y 1, probabilidad"
   ]
  },
  {
   "cell_type": "markdown",
   "metadata": {},
   "source": [
    "Hot encoding palabras\n",
    "<img src=\"img/hot_encoding.png\" width=\"300\">"
   ]
  },
  {
   "cell_type": "code",
   "execution_count": 42,
   "metadata": {},
   "outputs": [
    {
     "ename": "SyntaxError",
     "evalue": "invalid syntax (<ipython-input-42-e9f9e6d7a053>, line 1)",
     "output_type": "error",
     "traceback": [
      "\u001b[0;36m  File \u001b[0;32m\"<ipython-input-42-e9f9e6d7a053>\"\u001b[0;36m, line \u001b[0;32m1\u001b[0m\n\u001b[0;31m    ya no son imagenes son palabras\u001b[0m\n\u001b[0m        ^\u001b[0m\n\u001b[0;31mSyntaxError\u001b[0m\u001b[0;31m:\u001b[0m invalid syntax\n"
     ]
    }
   ],
   "source": [
    "ya no son imagenes son palabras"
   ]
  },
  {
   "cell_type": "code",
   "execution_count": 43,
   "metadata": {},
   "outputs": [],
   "source": [
    "import numpy as np\n",
    "\n",
    "# one hot encoding del input, vector con cada indice indicando si una palabra esta presente\n",
    "# pasa cadenas de palabra a cadena de binarios\n",
    "def one_hot_encode(data):\n",
    "    encoded = np.zeros((len(data),WORD_LIMIT))\n",
    "    for i, v in enumerate(data):\n",
    "        encoded[i,v] = 1 # localiza las columnas del genero correspondiente, marca con 1\n",
    "    return encoded"
   ]
  },
  {
   "cell_type": "code",
   "execution_count": 44,
   "metadata": {},
   "outputs": [],
   "source": [
    "training_set = one_hot_encode(training_data)\n",
    "testing_set = one_hot_encode(testing_data)"
   ]
  },
  {
   "cell_type": "code",
   "execution_count": 45,
   "metadata": {},
   "outputs": [],
   "source": [
    "from keras.utils import to_categorical\n",
    "\n",
    "y_train = to_categorical(training_labels)\n",
    "y_test = to_categorical(testing_labels)\n"
   ]
  },
  {
   "cell_type": "code",
   "execution_count": 46,
   "metadata": {},
   "outputs": [
    {
     "name": "stdout",
     "output_type": "stream",
     "text": [
      "(8982, 46)\n",
      "(2246, 46)\n"
     ]
    }
   ],
   "source": [
    "print(y_train.shape)\n",
    "print(y_test.shape)"
   ]
  },
  {
   "cell_type": "code",
   "execution_count": 47,
   "metadata": {},
   "outputs": [
    {
     "name": "stdout",
     "output_type": "stream",
     "text": [
      "(8982, 10000)\n",
      "(2246, 10000)\n"
     ]
    }
   ],
   "source": [
    "print(training_set.shape)\n",
    "print(testing_set.shape)\n",
    "# 100000 palabras\n",
    "# se convierte a binario para q la red entienda, soolo entiende numeros\n",
    "# cada palabra es un vector de 10000"
   ]
  },
  {
   "cell_type": "code",
   "execution_count": 48,
   "metadata": {},
   "outputs": [],
   "source": [
    "model.compile(optimizer='rmsprop',\n",
    "               loss='categorical_crossentropy', # ideal para clasificacion multiclase\n",
    "               metrics=['accuracy'])"
   ]
  },
  {
   "cell_type": "code",
   "execution_count": 49,
   "metadata": {},
   "outputs": [
    {
     "name": "stdout",
     "output_type": "stream",
     "text": [
      "Train on 7185 samples, validate on 1797 samples\n",
      "Epoch 1/20\n",
      "7185/7185 [==============================] - 1s 102us/step - loss: 3.4040 - accuracy: 0.4782 - val_loss: 2.9486 - val_accuracy: 0.5192\n",
      "Epoch 2/20\n",
      "7185/7185 [==============================] - 0s 61us/step - loss: 2.5316 - accuracy: 0.4074 - val_loss: 2.2190 - val_accuracy: 0.3450\n",
      "Epoch 3/20\n",
      "7185/7185 [==============================] - 0s 62us/step - loss: 1.8480 - accuracy: 0.3534 - val_loss: 1.7570 - val_accuracy: 0.3450\n",
      "Epoch 4/20\n",
      "7185/7185 [==============================] - 0s 65us/step - loss: 1.4401 - accuracy: 0.3534 - val_loss: 1.5640 - val_accuracy: 0.3489\n",
      "Epoch 5/20\n",
      "7185/7185 [==============================] - 1s 77us/step - loss: 1.1328 - accuracy: 0.5410 - val_loss: 1.1491 - val_accuracy: 0.7518\n",
      "Epoch 6/20\n",
      "7185/7185 [==============================] - 1s 76us/step - loss: 0.7146 - accuracy: 0.8579 - val_loss: 1.1463 - val_accuracy: 0.7474\n",
      "Epoch 7/20\n",
      "7185/7185 [==============================] - 0s 66us/step - loss: 0.5555 - accuracy: 0.8942 - val_loss: 1.0009 - val_accuracy: 0.7913\n",
      "Epoch 8/20\n",
      "7185/7185 [==============================] - 0s 63us/step - loss: 0.4550 - accuracy: 0.9115 - val_loss: 1.0260 - val_accuracy: 0.7846\n",
      "Epoch 9/20\n",
      "7185/7185 [==============================] - 0s 69us/step - loss: 0.3729 - accuracy: 0.9268 - val_loss: 1.0320 - val_accuracy: 0.7657\n",
      "Epoch 10/20\n",
      "7185/7185 [==============================] - 0s 64us/step - loss: 0.3180 - accuracy: 0.9364 - val_loss: 0.9495 - val_accuracy: 0.7997\n",
      "Epoch 11/20\n",
      "7185/7185 [==============================] - 0s 63us/step - loss: 0.2708 - accuracy: 0.9438 - val_loss: 0.9980 - val_accuracy: 0.7802\n",
      "Epoch 12/20\n",
      "7185/7185 [==============================] - 0s 63us/step - loss: 0.2346 - accuracy: 0.9489 - val_loss: 1.0351 - val_accuracy: 0.7763\n",
      "Epoch 13/20\n",
      "7185/7185 [==============================] - 0s 63us/step - loss: 0.2097 - accuracy: 0.9513 - val_loss: 0.9508 - val_accuracy: 0.8024\n",
      "Epoch 14/20\n",
      "7185/7185 [==============================] - 0s 62us/step - loss: 0.1842 - accuracy: 0.9566 - val_loss: 1.0596 - val_accuracy: 0.7813\n",
      "Epoch 15/20\n",
      "7185/7185 [==============================] - 0s 63us/step - loss: 0.1650 - accuracy: 0.9587 - val_loss: 0.9368 - val_accuracy: 0.8052\n",
      "Epoch 16/20\n",
      "7185/7185 [==============================] - 0s 69us/step - loss: 0.1495 - accuracy: 0.9596 - val_loss: 1.1221 - val_accuracy: 0.7663\n",
      "Epoch 17/20\n",
      "7185/7185 [==============================] - 0s 66us/step - loss: 0.1397 - accuracy: 0.9596 - val_loss: 1.0669 - val_accuracy: 0.7874\n",
      "Epoch 18/20\n",
      "7185/7185 [==============================] - 0s 68us/step - loss: 0.1325 - accuracy: 0.9613 - val_loss: 1.0593 - val_accuracy: 0.7908\n",
      "Epoch 19/20\n",
      "7185/7185 [==============================] - 0s 64us/step - loss: 0.1212 - accuracy: 0.9613 - val_loss: 1.0582 - val_accuracy: 0.7885\n",
      "Epoch 20/20\n",
      "7185/7185 [==============================] - 0s 66us/step - loss: 0.1150 - accuracy: 0.9624 - val_loss: 1.1091 - val_accuracy: 0.7919\n"
     ]
    }
   ],
   "source": [
    "#obtener historial del entrenamiento para estadisticas\n",
    "# cuanto mas complejo probar mas epocas, \n",
    "# validation_split guardar o divide un 20% de las muestra de training para validacion (no test)\n",
    "# se usa para validar si hay overfitting\n",
    "history = model.fit(training_set,y_train,epochs=20,batch_size=512,\n",
    "                   validation_split=0.2)"
   ]
  },
  {
   "cell_type": "code",
   "execution_count": 50,
   "metadata": {},
   "outputs": [
    {
     "data": {
      "image/png": "[encoded data removed]",
      "text/plain": [
       "<Figure size 432x288 with 1 Axes>"
      ]
     },
     "metadata": {
      "needs_background": "light"
     },
     "output_type": "display_data"
    }
   ],
   "source": [
    "import matplotlib.pyplot as plt\n",
    "%matplotlib inline\n",
    "\n",
    "#plot loss\n",
    "epochs = np.arange(1,len(history.history['loss'])+1)\n",
    "plt.title('Loss over training')\n",
    "plt.xlabel('epoch')\n",
    "plt.ylabel('loss')\n",
    "plt.plot(epochs,history.history['loss'],'r',label='training loss')\n",
    "plt.plot(epochs,history.history['val_loss'],'b',label='validation loss')\n",
    "plt.legend(loc='best')\n",
    "plt.show()\n",
    "# linea azul es computacion del error, no sigue al rojo, puede haber signo de overfitting\n",
    "# no tienen la misma precision\n",
    "# overfiting, la perdida en validacion aumento conforme las epocas"
   ]
  },
  {
   "cell_type": "code",
   "execution_count": 14,
   "metadata": {},
   "outputs": [
    {
     "data": {
      "image/png": "[encoded data removed]",
      "text/plain": [
       "<Figure size 432x288 with 1 Axes>"
      ]
     },
     "metadata": {},
     "output_type": "display_data"
    }
   ],
   "source": [
    "#plot accuracy\n",
    "epochs = np.arange(1,len(history.history['acc'])+1)\n",
    "plt.title('Accuracy over training')\n",
    "plt.xlabel('epoch')\n",
    "plt.ylabel('accuracy')\n",
    "plt.plot(epochs,history.history['acc'],'r',label='training accuracy')\n",
    "plt.plot(epochs,history.history['val_acc'],'b',label='validation accuracy')\n",
    "plt.legend(loc='best')\n",
    "plt.show()\n",
    "\n",
    "# precision llega en validacion al casi 80%"
   ]
  },
  {
   "cell_type": "code",
   "execution_count": 51,
   "metadata": {},
   "outputs": [
    {
     "name": "stdout",
     "output_type": "stream",
     "text": [
      "2246/2246 [==============================] - 0s 42us/step\n"
     ]
    }
   ],
   "source": [
    "model.predict(testing_set)\n",
    "loss, accuracy = model.evaluate(testing_set,y_test)"
   ]
  },
  {
   "cell_type": "markdown",
   "metadata": {},
   "source": [
    "crear subconjuntos en los test de training para validar, no usar el de test"
   ]
  },
  {
   "cell_type": "code",
   "execution_count": 16,
   "metadata": {},
   "outputs": [
    {
     "name": "stdout",
     "output_type": "stream",
     "text": [
      "Loss 1.1145100969346846, accuracy 0.778717720444884\n"
     ]
    }
   ],
   "source": [
    "print('Loss {}, accuracy {}'.format(loss,accuracy))"
   ]
  },
  {
   "cell_type": "markdown",
   "metadata": {
    "slideshow": {
     "slide_type": "slide"
    }
   },
   "source": [
    "### Ejercicio\n",
    "Comparar los resultados con otros modelos\n",
    "- alterar la arquitectura de la red (numero de neuronas, numero de layers)\n",
    "- Mostrar que con menos hidden units se pierde info que no se puede recuperar\n",
    "- 'tanh' en vez de 'relu'\n",
    "- distinto split training / validation (mayoria validation)"
   ]
  },
  {
   "cell_type": "markdown",
   "metadata": {
    "slideshow": {
     "slide_type": "slide"
    }
   },
   "source": [
    "# Optimizacion de redes neuronales\n",
    "- Preprocesado para ANN: \n",
    " - vectorizacion del input (tensores)\n",
    " - normalizacion de valores para acelerar entrenamiento (todas las features deben tener misma escala), media 0 std 1\n",
    " - Valores missing: eliminar, utilizar 0 (si 0 no tiene significado)"
   ]
  },
  {
   "cell_type": "markdown",
   "metadata": {
    "slideshow": {
     "slide_type": "fragment"
    }
   },
   "source": [
    "- Feature engineering (menos importante en deep learning)\n",
    " - Feature cross\n",
    " - creacion de features basadas en el dominio"
   ]
  },
  {
   "cell_type": "markdown",
   "metadata": {
    "slideshow": {
     "slide_type": "fragment"
    }
   },
   "source": [
    "- Weight regularization\n",
    "- Dropout"
   ]
  },
  {
   "cell_type": "markdown",
   "metadata": {
    "slideshow": {
     "slide_type": "subslide"
    }
   },
   "source": [
    "### Weight regularisation\n",
    "\n",
    "- El modelo mas sencillo (menos parametros) que explique los datos es preferido\n",
    "- Evitar overfitting\n",
    "- Hace que los parametros tengan valores muy pequeños (coste a cada solución dependiente de la magnitud de los parametros)\n",
    " - coste proporcional al valor absoluto (L1) o proporcional a la raiz cuadrada del valor\n",
    "- trabajar w  mas pequeños\n",
    "- normalizacion L1 cuando se divide el w con el val abs, o L2 si se dividide con laraiz"
   ]
  },
  {
   "cell_type": "code",
   "execution_count": 53,
   "metadata": {
    "slideshow": {
     "slide_type": "slide"
    }
   },
   "outputs": [],
   "source": [
    "from keras.datasets import mnist\n",
    "from keras import models\n",
    "from keras import layers\n",
    "\n",
    "(train_data, train_labels), (test_data, test_labels) = mnist.load_data()\n",
    "\n",
    "train_data = train_data.reshape((60000,28*28))\n",
    "train_data = train_data.astype('float32')/255\n",
    "test_data = test_data.reshape((10000,28*28))\n",
    "test_data = test_data.astype('float32')/255\n",
    "\n",
    "from keras.utils import to_categorical\n",
    "train_labels = to_categorical(train_labels)\n",
    "test_labels = to_categorical(test_labels)\n"
   ]
  },
  {
   "cell_type": "code",
   "execution_count": 54,
   "metadata": {},
   "outputs": [
    {
     "name": "stdout",
     "output_type": "stream",
     "text": [
      "Train on 11999 samples, validate on 48001 samples\n",
      "Epoch 1/30\n",
      "11999/11999 [==============================] - 1s 84us/step - loss: 0.4574 - accuracy: 0.8624 - val_loss: 0.2880 - val_accuracy: 0.9110\n",
      "Epoch 2/30\n",
      "11999/11999 [==============================] - 1s 70us/step - loss: 0.1850 - accuracy: 0.9445 - val_loss: 0.1947 - val_accuracy: 0.9410\n",
      "Epoch 3/30\n",
      "11999/11999 [==============================] - 1s 68us/step - loss: 0.1163 - accuracy: 0.9642 - val_loss: 0.1953 - val_accuracy: 0.9383\n",
      "Epoch 4/30\n",
      "11999/11999 [==============================] - 1s 69us/step - loss: 0.0762 - accuracy: 0.9773 - val_loss: 0.1715 - val_accuracy: 0.9497\n",
      "Epoch 5/30\n",
      "11999/11999 [==============================] - 1s 79us/step - loss: 0.0507 - accuracy: 0.9836 - val_loss: 0.1741 - val_accuracy: 0.9522\n",
      "Epoch 6/30\n",
      "11999/11999 [==============================] - 1s 67us/step - loss: 0.0337 - accuracy: 0.9895 - val_loss: 0.1539 - val_accuracy: 0.9590\n",
      "Epoch 7/30\n",
      "11999/11999 [==============================] - 1s 67us/step - loss: 0.0254 - accuracy: 0.9914 - val_loss: 0.1716 - val_accuracy: 0.9554\n",
      "Epoch 8/30\n",
      "11999/11999 [==============================] - 1s 68us/step - loss: 0.0185 - accuracy: 0.9939 - val_loss: 0.1639 - val_accuracy: 0.9599\n",
      "Epoch 9/30\n",
      "11999/11999 [==============================] - 1s 70us/step - loss: 0.0115 - accuracy: 0.9972 - val_loss: 0.1584 - val_accuracy: 0.9640\n",
      "Epoch 10/30\n",
      "11999/11999 [==============================] - 1s 70us/step - loss: 0.0102 - accuracy: 0.9969 - val_loss: 0.2227 - val_accuracy: 0.9550\n",
      "Epoch 11/30\n",
      "11999/11999 [==============================] - 1s 70us/step - loss: 0.0088 - accuracy: 0.9971 - val_loss: 0.1844 - val_accuracy: 0.9630\n",
      "Epoch 12/30\n",
      "11999/11999 [==============================] - 1s 70us/step - loss: 0.0055 - accuracy: 0.9983 - val_loss: 0.2244 - val_accuracy: 0.9585\n",
      "Epoch 13/30\n",
      "11999/11999 [==============================] - 1s 70us/step - loss: 0.0053 - accuracy: 0.9986 - val_loss: 0.2498 - val_accuracy: 0.9543\n",
      "Epoch 14/30\n",
      "11999/11999 [==============================] - 1s 71us/step - loss: 0.0052 - accuracy: 0.9980 - val_loss: 0.2189 - val_accuracy: 0.9605\n",
      "Epoch 15/30\n",
      "11999/11999 [==============================] - 1s 71us/step - loss: 0.0024 - accuracy: 0.9991 - val_loss: 0.3102 - val_accuracy: 0.9504\n",
      "Epoch 16/30\n",
      "11999/11999 [==============================] - 1s 71us/step - loss: 0.0036 - accuracy: 0.9991 - val_loss: 0.2151 - val_accuracy: 0.9649\n",
      "Epoch 17/30\n",
      "11999/11999 [==============================] - 1s 70us/step - loss: 0.0027 - accuracy: 0.9991 - val_loss: 0.2668 - val_accuracy: 0.9606\n",
      "Epoch 18/30\n",
      "11999/11999 [==============================] - 1s 71us/step - loss: 0.0027 - accuracy: 0.9990 - val_loss: 0.4332 - val_accuracy: 0.9407\n",
      "Epoch 19/30\n",
      "11999/11999 [==============================] - 1s 72us/step - loss: 0.0053 - accuracy: 0.9990 - val_loss: 0.2742 - val_accuracy: 0.9610\n",
      "Epoch 20/30\n",
      "11999/11999 [==============================] - 1s 71us/step - loss: 0.0033 - accuracy: 0.9991 - val_loss: 0.2577 - val_accuracy: 0.9634\n",
      "Epoch 21/30\n",
      "11999/11999 [==============================] - 1s 71us/step - loss: 6.5232e-04 - accuracy: 0.9998 - val_loss: 0.2564 - val_accuracy: 0.9650\n",
      "Epoch 22/30\n",
      "11999/11999 [==============================] - 1s 71us/step - loss: 0.0023 - accuracy: 0.9994 - val_loss: 0.2876 - val_accuracy: 0.9628\n",
      "Epoch 23/30\n",
      "11999/11999 [==============================] - 1s 73us/step - loss: 0.0019 - accuracy: 0.9995 - val_loss: 0.2767 - val_accuracy: 0.9648\n",
      "Epoch 24/30\n",
      "11999/11999 [==============================] - 1s 72us/step - loss: 8.4691e-04 - accuracy: 0.9997 - val_loss: 0.2765 - val_accuracy: 0.9643\n",
      "Epoch 25/30\n",
      "11999/11999 [==============================] - 1s 71us/step - loss: 0.0020 - accuracy: 0.9996 - val_loss: 0.3086 - val_accuracy: 0.9618\n",
      "Epoch 26/30\n",
      "11999/11999 [==============================] - 1s 72us/step - loss: 0.0043 - accuracy: 0.9992 - val_loss: 0.2911 - val_accuracy: 0.9640\n",
      "Epoch 27/30\n",
      "11999/11999 [==============================] - 1s 72us/step - loss: 0.0018 - accuracy: 0.9997 - val_loss: 0.2859 - val_accuracy: 0.9651\n",
      "Epoch 28/30\n",
      "11999/11999 [==============================] - 1s 72us/step - loss: 0.0019 - accuracy: 0.9997 - val_loss: 0.2889 - val_accuracy: 0.9661\n",
      "Epoch 29/30\n",
      "11999/11999 [==============================] - 1s 72us/step - loss: 0.0044 - accuracy: 0.9990 - val_loss: 0.3213 - val_accuracy: 0.9647\n",
      "Epoch 30/30\n",
      "11999/11999 [==============================] - 1s 74us/step - loss: 5.1853e-04 - accuracy: 0.9998 - val_loss: 0.3242 - val_accuracy: 0.9648\n"
     ]
    }
   ],
   "source": [
    "#modelo sin regularizacion\n",
    "network = models.Sequential()\n",
    "network.add(layers.Dense(512,activation='relu',input_shape=(28*28,)))\n",
    "# otra hiden layer, mas grados de libertad, habras mas w y bias\n",
    "network.add(layers.Dense(256,activation='relu'))\n",
    "network.add(layers.Dense(10,activation='softmax'))\n",
    "\n",
    "network.compile(optimizer='rmsprop',\n",
    "               loss='categorical_crossentropy',\n",
    "               metrics=['accuracy'])\n",
    "# sobreentrenamiento con 30 epocas\n",
    "# el val de loss primero baja luego sube, indice de soverfitting\n",
    "# normalizaCION L1\n",
    "history_network = network.fit(train_data,train_labels,epochs=30,batch_size=128,validation_split=0.8)"
   ]
  },
  {
   "cell_type": "code",
   "execution_count": 55,
   "metadata": {},
   "outputs": [
    {
     "name": "stdout",
     "output_type": "stream",
     "text": [
      "Train on 11999 samples, validate on 48001 samples\n",
      "Epoch 1/30\n",
      "11999/11999 [==============================] - 1s 85us/step - loss: 1.1035 - accuracy: 0.8519 - val_loss: 0.7720 - val_accuracy: 0.9170\n",
      "Epoch 2/30\n",
      "11999/11999 [==============================] - 1s 88us/step - loss: 0.6363 - accuracy: 0.9373 - val_loss: 0.5647 - val_accuracy: 0.9391\n",
      "Epoch 3/30\n",
      "11999/11999 [==============================] - 1s 80us/step - loss: 0.4759 - accuracy: 0.9532 - val_loss: 0.6154 - val_accuracy: 0.8893\n",
      "Epoch 4/30\n",
      "11999/11999 [==============================] - 1s 85us/step - loss: 0.3837 - accuracy: 0.9595 - val_loss: 0.3899 - val_accuracy: 0.9492\n",
      "Epoch 5/30\n",
      "11999/11999 [==============================] - 1s 82us/step - loss: 0.3174 - accuracy: 0.9669 - val_loss: 0.3648 - val_accuracy: 0.9478\n",
      "Epoch 6/30\n",
      "11999/11999 [==============================] - 1s 79us/step - loss: 0.2764 - accuracy: 0.9692 - val_loss: 0.3818 - val_accuracy: 0.9323\n",
      "Epoch 7/30\n",
      "11999/11999 [==============================] - 1s 70us/step - loss: 0.2413 - accuracy: 0.9740 - val_loss: 0.3031 - val_accuracy: 0.9524\n",
      "Epoch 8/30\n",
      "11999/11999 [==============================] - 1s 98us/step - loss: 0.2253 - accuracy: 0.9740 - val_loss: 0.2806 - val_accuracy: 0.9540\n",
      "Epoch 9/30\n",
      "11999/11999 [==============================] - 1s 90us/step - loss: 0.2015 - accuracy: 0.9782 - val_loss: 0.2802 - val_accuracy: 0.9519\n",
      "Epoch 10/30\n",
      "11999/11999 [==============================] - 1s 80us/step - loss: 0.1930 - accuracy: 0.9778 - val_loss: 0.2506 - val_accuracy: 0.9585\n",
      "Epoch 11/30\n",
      "11999/11999 [==============================] - 1s 77us/step - loss: 0.1771 - accuracy: 0.9820 - val_loss: 0.2401 - val_accuracy: 0.9591\n",
      "Epoch 12/30\n",
      "11999/11999 [==============================] - 1s 78us/step - loss: 0.1696 - accuracy: 0.9815 - val_loss: 0.2409 - val_accuracy: 0.9584\n",
      "Epoch 13/30\n",
      "11999/11999 [==============================] - 1s 79us/step - loss: 0.1590 - accuracy: 0.9831 - val_loss: 0.2441 - val_accuracy: 0.9555\n",
      "Epoch 14/30\n",
      "11999/11999 [==============================] - 1s 77us/step - loss: 0.1519 - accuracy: 0.9847 - val_loss: 0.3250 - val_accuracy: 0.9278\n",
      "Epoch 15/30\n",
      "11999/11999 [==============================] - 1s 78us/step - loss: 0.1487 - accuracy: 0.9835 - val_loss: 0.2313 - val_accuracy: 0.9559\n",
      "Epoch 16/30\n",
      "11999/11999 [==============================] - 1s 77us/step - loss: 0.1428 - accuracy: 0.9848 - val_loss: 0.2350 - val_accuracy: 0.9559\n",
      "Epoch 17/30\n",
      "11999/11999 [==============================] - 1s 79us/step - loss: 0.1359 - accuracy: 0.9872 - val_loss: 0.2239 - val_accuracy: 0.9584\n",
      "Epoch 18/30\n",
      "11999/11999 [==============================] - 1s 81us/step - loss: 0.1310 - accuracy: 0.9872 - val_loss: 0.2327 - val_accuracy: 0.9541\n",
      "Epoch 19/30\n",
      "11999/11999 [==============================] - 1s 79us/step - loss: 0.1251 - accuracy: 0.9877 - val_loss: 0.2290 - val_accuracy: 0.9558\n",
      "Epoch 20/30\n",
      "11999/11999 [==============================] - 1s 78us/step - loss: 0.1228 - accuracy: 0.9868 - val_loss: 0.2292 - val_accuracy: 0.9543\n",
      "Epoch 21/30\n",
      "11999/11999 [==============================] - 1s 78us/step - loss: 0.1199 - accuracy: 0.9872 - val_loss: 0.2243 - val_accuracy: 0.9557\n",
      "Epoch 22/30\n",
      "11999/11999 [==============================] - 1s 91us/step - loss: 0.1156 - accuracy: 0.9893 - val_loss: 0.3091 - val_accuracy: 0.9277\n",
      "Epoch 23/30\n",
      "11999/11999 [==============================] - 1s 85us/step - loss: 0.1134 - accuracy: 0.9895 - val_loss: 0.2190 - val_accuracy: 0.9564\n",
      "Epoch 24/30\n",
      "11999/11999 [==============================] - 1s 80us/step - loss: 0.1102 - accuracy: 0.9897 - val_loss: 0.2035 - val_accuracy: 0.9603\n",
      "Epoch 25/30\n",
      "11999/11999 [==============================] - 1s 80us/step - loss: 0.1075 - accuracy: 0.9909 - val_loss: 0.2167 - val_accuracy: 0.9563\n",
      "Epoch 26/30\n",
      "11999/11999 [==============================] - 1s 102us/step - loss: 0.1045 - accuracy: 0.9901 - val_loss: 0.2216 - val_accuracy: 0.9548\n",
      "Epoch 27/30\n",
      "11999/11999 [==============================] - 1s 78us/step - loss: 0.0992 - accuracy: 0.9922 - val_loss: 0.2528 - val_accuracy: 0.9449\n",
      "Epoch 28/30\n",
      "11999/11999 [==============================] - 1s 78us/step - loss: 0.1023 - accuracy: 0.9903 - val_loss: 0.2255 - val_accuracy: 0.9516\n",
      "Epoch 29/30\n",
      "11999/11999 [==============================] - 1s 96us/step - loss: 0.0985 - accuracy: 0.9912 - val_loss: 0.2144 - val_accuracy: 0.9549\n",
      "Epoch 30/30\n",
      "11999/11999 [==============================] - 1s 99us/step - loss: 0.0953 - accuracy: 0.9925 - val_loss: 0.2071 - val_accuracy: 0.9580\n"
     ]
    }
   ],
   "source": [
    "#modelo con regularizacion L2\n",
    "from keras import regularizers\n",
    "\n",
    "network_l2reg = models.Sequential()\n",
    "#REGULARIZACION DIVIDE LOS PESOS POR 0.0001\n",
    "# EN CADA BACKPROPAGATION YA LLEG AACTUALIZADO EL W\n",
    "network_l2reg.add(layers.Dense(512,activation='relu',kernel_regularizer=regularizers.l2(0.001),input_shape=(28*28,)))\n",
    "network_l2reg.add(layers.Dense(256,activation='relu',kernel_regularizer=regularizers.l2(0.001)))\n",
    "network_l2reg.add(layers.Dense(10,activation='softmax'))\n",
    "\n",
    "network_l2reg.compile(optimizer='rmsprop',\n",
    "               loss='categorical_crossentropy',\n",
    "               metrics=['accuracy'])\n",
    "\n",
    "history_network_l2reg = network_l2reg.fit(train_data,train_labels,epochs=30,batch_size=128,validation_split=0.8)"
   ]
  },
  {
   "cell_type": "code",
   "execution_count": 21,
   "metadata": {},
   "outputs": [
    {
     "data": {
      "image/png": "[encoded data removed]",
      "text/plain": [
       "<Figure size 432x288 with 1 Axes>"
      ]
     },
     "metadata": {},
     "output_type": "display_data"
    }
   ],
   "source": [
    "import matplotlib.pyplot as plt\n",
    "%matplotlib inline\n",
    "\n",
    "#plot loss\n",
    "epochs = np.arange(1,len(history_network_l2reg.history['loss'])+1)\n",
    "plt.title('Validation loss')\n",
    "plt.xlabel('epoch')\n",
    "plt.ylabel('loss')\n",
    "plt.plot(epochs,history_network_l2reg.history['val_loss'],'r',label='L2 regularisation')\n",
    "plt.plot(epochs,history_network.history['val_loss'],'b',label='Normal model')\n",
    "plt.legend(loc='best')\n",
    "plt.show()"
   ]
  },
  {
   "cell_type": "markdown",
   "metadata": {
    "slideshow": {
     "slide_type": "slide"
    }
   },
   "source": [
    "### Dropout\n",
    "\n",
    "- Aleatoriamente poner 0 en output features de una capa\n",
    "- Dropout rate determina la proporcion de 0s\n",
    "- Funciona al eliminar patrones espurios (evita overfitting)\n",
    "- desconectar neuronas ne el entrenamientos\n",
    "- situar Ws en 0\n",
    "- Solo se hace en la fase dentrenamiento\n"
   ]
  },
  {
   "cell_type": "code",
   "execution_count": 56,
   "metadata": {},
   "outputs": [
    {
     "name": "stdout",
     "output_type": "stream",
     "text": [
      "Train on 11999 samples, validate on 48001 samples\n",
      "Epoch 1/30\n",
      "11999/11999 [==============================] - 1s 86us/step - loss: 0.6968 - accuracy: 0.7836 - val_loss: 0.3025 - val_accuracy: 0.9095\n",
      "Epoch 2/30\n",
      "11999/11999 [==============================] - 1s 74us/step - loss: 0.3249 - accuracy: 0.9029 - val_loss: 0.2474 - val_accuracy: 0.9260\n",
      "Epoch 3/30\n",
      "11999/11999 [==============================] - 1s 74us/step - loss: 0.2442 - accuracy: 0.9275 - val_loss: 0.2076 - val_accuracy: 0.9386\n",
      "Epoch 4/30\n",
      "11999/11999 [==============================] - 1s 75us/step - loss: 0.1964 - accuracy: 0.9416 - val_loss: 0.1758 - val_accuracy: 0.9471\n",
      "Epoch 5/30\n",
      "11999/11999 [==============================] - 1s 74us/step - loss: 0.1688 - accuracy: 0.9517 - val_loss: 0.1709 - val_accuracy: 0.9499\n",
      "Epoch 6/30\n",
      "11999/11999 [==============================] - 1s 75us/step - loss: 0.1390 - accuracy: 0.9579 - val_loss: 0.1673 - val_accuracy: 0.9516\n",
      "Epoch 7/30\n",
      "11999/11999 [==============================] - 1s 75us/step - loss: 0.1289 - accuracy: 0.9617 - val_loss: 0.1721 - val_accuracy: 0.9532\n",
      "Epoch 8/30\n",
      "11999/11999 [==============================] - 1s 76us/step - loss: 0.1128 - accuracy: 0.9678 - val_loss: 0.1701 - val_accuracy: 0.9539\n",
      "Epoch 9/30\n",
      "11999/11999 [==============================] - 1s 75us/step - loss: 0.0959 - accuracy: 0.9704 - val_loss: 0.1750 - val_accuracy: 0.9550\n",
      "Epoch 10/30\n",
      "11999/11999 [==============================] - 1s 79us/step - loss: 0.0922 - accuracy: 0.9729 - val_loss: 0.1848 - val_accuracy: 0.9536\n",
      "Epoch 11/30\n",
      "11999/11999 [==============================] - 1s 75us/step - loss: 0.0836 - accuracy: 0.9747 - val_loss: 0.1576 - val_accuracy: 0.9603\n",
      "Epoch 12/30\n",
      "11999/11999 [==============================] - 1s 76us/step - loss: 0.0786 - accuracy: 0.9752 - val_loss: 0.1677 - val_accuracy: 0.9591\n",
      "Epoch 13/30\n",
      "11999/11999 [==============================] - 1s 75us/step - loss: 0.0638 - accuracy: 0.9786 - val_loss: 0.1718 - val_accuracy: 0.9600\n",
      "Epoch 14/30\n",
      "11999/11999 [==============================] - 1s 76us/step - loss: 0.0662 - accuracy: 0.9809 - val_loss: 0.1640 - val_accuracy: 0.9629\n",
      "Epoch 15/30\n",
      "11999/11999 [==============================] - 1s 81us/step - loss: 0.0552 - accuracy: 0.9826 - val_loss: 0.1823 - val_accuracy: 0.9612\n",
      "Epoch 16/30\n",
      "11999/11999 [==============================] - 1s 82us/step - loss: 0.0541 - accuracy: 0.9827 - val_loss: 0.1893 - val_accuracy: 0.9616\n",
      "Epoch 17/30\n",
      "11999/11999 [==============================] - 1s 78us/step - loss: 0.0514 - accuracy: 0.9835 - val_loss: 0.1847 - val_accuracy: 0.9622\n",
      "Epoch 18/30\n",
      "11999/11999 [==============================] - 1s 77us/step - loss: 0.0487 - accuracy: 0.9853 - val_loss: 0.1909 - val_accuracy: 0.9614\n",
      "Epoch 19/30\n",
      "11999/11999 [==============================] - 1s 75us/step - loss: 0.0465 - accuracy: 0.9847 - val_loss: 0.1903 - val_accuracy: 0.9633\n",
      "Epoch 20/30\n",
      "11999/11999 [==============================] - 1s 74us/step - loss: 0.0426 - accuracy: 0.9878 - val_loss: 0.1901 - val_accuracy: 0.9629\n",
      "Epoch 21/30\n",
      "11999/11999 [==============================] - 1s 79us/step - loss: 0.0469 - accuracy: 0.9855 - val_loss: 0.1928 - val_accuracy: 0.9628\n",
      "Epoch 22/30\n",
      "11999/11999 [==============================] - 1s 77us/step - loss: 0.0392 - accuracy: 0.9872 - val_loss: 0.2065 - val_accuracy: 0.9635\n",
      "Epoch 23/30\n",
      "11999/11999 [==============================] - 1s 75us/step - loss: 0.0391 - accuracy: 0.9874 - val_loss: 0.1978 - val_accuracy: 0.9651\n",
      "Epoch 24/30\n",
      "11999/11999 [==============================] - 1s 74us/step - loss: 0.0373 - accuracy: 0.9884 - val_loss: 0.2075 - val_accuracy: 0.9645\n",
      "Epoch 25/30\n",
      "11999/11999 [==============================] - 1s 77us/step - loss: 0.0348 - accuracy: 0.9902 - val_loss: 0.2083 - val_accuracy: 0.9643\n",
      "Epoch 26/30\n",
      "11999/11999 [==============================] - 1s 83us/step - loss: 0.0363 - accuracy: 0.9889 - val_loss: 0.2106 - val_accuracy: 0.9649\n",
      "Epoch 27/30\n",
      "11999/11999 [==============================] - 1s 76us/step - loss: 0.0341 - accuracy: 0.9888 - val_loss: 0.2010 - val_accuracy: 0.9650\n",
      "Epoch 28/30\n",
      "11999/11999 [==============================] - 1s 79us/step - loss: 0.0276 - accuracy: 0.9902 - val_loss: 0.2310 - val_accuracy: 0.9638\n",
      "Epoch 29/30\n",
      "11999/11999 [==============================] - 1s 75us/step - loss: 0.0347 - accuracy: 0.9902 - val_loss: 0.2137 - val_accuracy: 0.9653\n",
      "Epoch 30/30\n",
      "11999/11999 [==============================] - 1s 75us/step - loss: 0.0270 - accuracy: 0.9919 - val_loss: 0.2277 - val_accuracy: 0.9651\n"
     ]
    }
   ],
   "source": [
    "#modelo con regularizacion por dropout\n",
    "network_dropout = models.Sequential()\n",
    "network_dropout.add(layers.Dense(512,activation='relu',input_shape=(28*28,)))\n",
    "# 50% de 512 neuronas se hacen 0\n",
    "network_dropout.add(layers.Dropout(0.5)) # desconecta neuronas, w a 0, de forma aleatoria, para disminuir grados de libertad, o disminuir muestras\n",
    "network_dropout.add(layers.Dense(256,activation='relu'))\n",
    "network_dropout.add(layers.Dropout(0.5))\n",
    "network_dropout.add(layers.Dense(10,activation='softmax'))\n",
    "\n",
    "# si el overfiting datos no mejora, entonces se tiene q reducir la profundidad, a menos q no se tenga mas data\n",
    "\n",
    "network_dropout.compile(optimizer='rmsprop',\n",
    "               loss='categorical_crossentropy',\n",
    "               metrics=['accuracy'])\n",
    "\n",
    "history_network_dropout = network_dropout.fit(train_data,train_labels,epochs=30,batch_size=128,validation_split=0.8)"
   ]
  },
  {
   "cell_type": "code",
   "execution_count": 23,
   "metadata": {},
   "outputs": [
    {
     "data": {
      "image/png": "[encoded data removed]",
      "text/plain": [
       "<Figure size 432x288 with 1 Axes>"
      ]
     },
     "metadata": {},
     "output_type": "display_data"
    }
   ],
   "source": [
    "import matplotlib.pyplot as plt\n",
    "%matplotlib inline\n",
    "\n",
    "#plot loss\n",
    "epochs = np.arange(1,len(history_network_l2reg.history['loss'])+1)\n",
    "plt.title('Validation loss')\n",
    "plt.xlabel('epoch')\n",
    "plt.ylabel('loss')\n",
    "plt.plot(epochs,history_network_dropout.history['val_loss'],'r',label='Dropout regularisation')\n",
    "plt.plot(epochs,history_network.history['val_loss'],'b',label='Normal model')\n",
    "plt.legend(loc='best')\n",
    "plt.show()\n",
    "\n",
    "# aun posee overfitting, pero mas ligero\n",
    "# jugar con el dropout para normalizar la grafica"
   ]
  },
  {
   "cell_type": "markdown",
   "metadata": {
    "slideshow": {
     "slide_type": "slide"
    }
   },
   "source": [
    "## Función de pérdida / función de activación\n",
    "\n",
    "- Dependiente del problema\n",
    " - clasificación binaria: activación ultima capa (sigmoide), función de perdida (binary_crossentropy)\n",
    " - clasificacion multiclase: activación ultima capa (softmax), función de perdida (categorical_crossentropy)\n",
    " - regresión con valores arbitrarios: activación ultima capa (none), función de perdida (mse)\n",
    "   - una funcion de salida util seria una none osea una lineal, pues lo mismo enel input tienes en el output\n",
    " - regresión valores 0 a 1: activación ultima capa (sigmoide), función de perdida (mse o binary_crossentropy)\n",
    "   - funcion de PERDIDA SON MAE o MSE\n",
    " \n",
    " Info en Keras https://keras.io/losses/"
   ]
  },
  {
   "cell_type": "markdown",
   "metadata": {},
   "source": []
  }
 ],
 "metadata": {
  "celltoolbar": "Slideshow",
  "kernelspec": {
   "display_name": "Python 3",
   "language": "python",
   "name": "python3"
  },
  "language_info": {
   "codemirror_mode": {
    "name": "ipython",
    "version": 3
   },
   "file_extension": ".py",
   "mimetype": "text/x-python",
   "name": "python",
   "nbconvert_exporter": "python",
   "pygments_lexer": "ipython3",
   "version": "3.7.4"
  }
 },
 "nbformat": 4,
 "nbformat_minor": 4
}
