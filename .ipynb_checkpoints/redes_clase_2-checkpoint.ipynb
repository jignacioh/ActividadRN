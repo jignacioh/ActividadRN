{
 "cells": [
  {
   "cell_type": "markdown",
   "metadata": {},
   "source": [
    "- BACKPROPAGATION\n",
    "    ENTRENAMIENTO RED NEURONAL"
   ]
  },
  {
   "cell_type": "markdown",
   "metadata": {},
   "source": [
    "- Descenso gradiente minimizar dif. entre training y label actual"
   ]
  },
  {
   "cell_type": "markdown",
   "metadata": {},
   "source": [
    "- Descenso de gradiente para hallar el punto optimo "
   ]
  },
  {
   "cell_type": "markdown",
   "metadata": {},
   "source": [
    "TRAINING LOOP -> TIENE HIPERPARAMETROS"
   ]
  },
  {
   "cell_type": "markdown",
   "metadata": {},
   "source": [
    "- GET TRAINING SAMPLES"
   ]
  },
  {
   "cell_type": "markdown",
   "metadata": {},
   "source": [
    "- EVAL FUNC PERDIDA ENTRE SAMPLES Y PREDICCIONES, OBTIENEN ERRORES"
   ]
  },
  {
   "cell_type": "markdown",
   "metadata": {},
   "source": [
    "- Usa el error para retropropapgar hacia arribar para ver como influyen w en el error y asi modificarlos"
   ]
  },
  {
   "cell_type": "markdown",
   "metadata": {},
   "source": [
    "- con un error ya aceptable se para, o tras un numero x de iteraciones"
   ]
  },
  {
   "cell_type": "markdown",
   "metadata": {},
   "source": [
    "ESTRATEGIA ACTUALIZA VALORES"
   ]
  },
  {
   "cell_type": "markdown",
   "metadata": {},
   "source": [
    "- NAIVE"
   ]
  },
  {
   "cell_type": "markdown",
   "metadata": {},
   "source": [
    "- Dif. la capa respecto cada parametro usando derivadas"
   ]
  },
  {
   "cell_type": "markdown",
   "metadata": {},
   "source": [
    "# Descenso grandiente"
   ]
  },
  {
   "cell_type": "markdown",
   "metadata": {},
   "source": [
    "- TAMAÑO DE BATCH ES UN HIPERPARAMETRO\n",
    "- STOCASTIC = 1, coja una instancia, forward, calculo error, retropropago, actualiza pesos\n",
    "  - menos memoria, convergencia lenta, epoca lenta, los pasos son los numeros de instancis q tenga\n",
    "- MINI BATCH = TAMAÑO TRAINING SET>SIZE>1, SUELE SER POTENCIA DE 2\n",
    "- BATCH SGD, BATCH SIZE = TAMAÑO DE SET TRAINING\n",
    "  - usa mas meoria, epoca rapida, convergencia rapida, los pasos son solo 1 porq se usa todas las instancias\n",
    " "
   ]
  },
  {
   "cell_type": "markdown",
   "metadata": {},
   "source": [
    "EPOCA: UNA EPOCA ACABA CUANDO TODAS LAS MUESTRAS PASAN POR EL FORWARD AND BACK PROPAGATION "
   ]
  },
  {
   "cell_type": "markdown",
   "metadata": {},
   "source": [
    "Nº steps/epoch = Nºmuestras en training set / batch_size"
   ]
  },
  {
   "cell_type": "markdown",
   "metadata": {},
   "source": [
    "HIPERPARAMATETRO ENTRENANDO ANNS"
   ]
  },
  {
   "cell_type": "markdown",
   "metadata": {},
   "source": [
    "EPOCA"
   ]
  },
  {
   "cell_type": "markdown",
   "metadata": {},
   "source": [
    "BATCH SIZE"
   ]
  },
  {
   "cell_type": "markdown",
   "metadata": {},
   "source": [
    "LEARNING RATE, MAGNITUD CAMBIO CAD AACTUALIZACION"
   ]
  },
  {
   "cell_type": "markdown",
   "metadata": {},
   "source": [
    "FUNCION PERDIDA,  ERROR ESPERADO Y HALLADO"
   ]
  },
  {
   "cell_type": "code",
   "execution_count": null,
   "metadata": {},
   "outputs": [],
   "source": []
  }
 ],
 "metadata": {
  "kernelspec": {
   "display_name": "Python 3",
   "language": "python",
   "name": "python3"
  },
  "language_info": {
   "codemirror_mode": {
    "name": "ipython",
    "version": 3
   },
   "file_extension": ".py",
   "mimetype": "text/x-python",
   "name": "python",
   "nbconvert_exporter": "python",
   "pygments_lexer": "ipython3",
   "version": "3.7.4"
  }
 },
 "nbformat": 4,
 "nbformat_minor": 4
}
